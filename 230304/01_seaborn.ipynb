{
 "cells": [
  {
   "cell_type": "code",
   "execution_count": null,
   "metadata": {},
   "outputs": [],
   "source": [
    "!pip install seaborn"
   ]
  },
  {
   "cell_type": "code",
   "execution_count": null,
   "metadata": {},
   "outputs": [],
   "source": [
    "import pandas as pd \n",
    "import seaborn as sns\n",
    "import matplotlib.pyplot as plt"
   ]
  },
  {
   "attachments": {},
   "cell_type": "markdown",
   "metadata": {},
   "source": [
    "1. drinks.csv 파일 로드 \n",
    "2. 'beer_serving', 'spirit_serving', 'wine_serving', 'total_litres_of_pure_alcohol' 컬럼의 데이터 간의 상관관계 출력\n",
    "3. 행렬 히트맵 시각화\n",
    "4. 국가별 술 소비량 대비 알콜 비율 컬럼 추가 \n",
    "5. 국가별 순위 시각화 (우리나라의 소비량을 표시)"
   ]
  },
  {
   "cell_type": "code",
   "execution_count": null,
   "metadata": {},
   "outputs": [],
   "source": [
    "# 1. 파일 로드 \n",
    "drinks = pd.read_csv(\"../csv/drinks.csv\")\n",
    "drinks.head(2)"
   ]
  },
  {
   "cell_type": "code",
   "execution_count": null,
   "metadata": {},
   "outputs": [],
   "source": [
    "## 상관계수 행렬 출력\n",
    "corr = drinks[\n",
    "    ['beer_servings', \n",
    "     'spirit_servings', \n",
    "     'wine_servings', \n",
    "     'total_litres_of_pure_alcohol']\n",
    "].corr(method='pearson')\n",
    "corr"
   ]
  },
  {
   "cell_type": "code",
   "execution_count": null,
   "metadata": {},
   "outputs": [],
   "source": [
    "## 상관관계 시각화\n",
    "cols_view = ['beer', 'spirit', 'wine', 'alcohol']\n",
    "\n",
    "sns.set(font_scale = 1.5)\n",
    "\n",
    "hm = sns.heatmap(\n",
    "    corr.values, \n",
    "    cbar=True, \n",
    "    annot = True, \n",
    "    square= True, \n",
    "    fmt = '.2f', \n",
    "    annot_kws = {'size' : 20}, \n",
    "    xticklabels = cols_view, \n",
    "    yticklabels = cols_view\n",
    ")\n",
    "\n",
    "plt.tight_layout()\n",
    "plt.show()"
   ]
  },
  {
   "cell_type": "code",
   "execution_count": null,
   "metadata": {},
   "outputs": [],
   "source": [
    "sns.set(style='whitegrid', context='notebook')\n",
    "\n",
    "sns.pairplot(\n",
    "    drinks[\n",
    "        ['beer_servings', \n",
    "         'spirit_servings', \n",
    "         'wine_servings', \n",
    "         'total_litres_of_pure_alcohol']\n",
    "    ], \n",
    "    height=2.5\n",
    ")\n",
    "plt.show()"
   ]
  },
  {
   "cell_type": "code",
   "execution_count": 18,
   "metadata": {},
   "outputs": [],
   "source": [
    "## 새로운 파생변수를 생성\n",
    "## 총 술의 소비량(total_servings) = beer + spirit + wine\n",
    "drinks['total_servings'] = drinks['beer_servings'] + \\\n",
    "    drinks['spirit_servings'] + drinks['wine_servings']\n"
   ]
  },
  {
   "cell_type": "code",
   "execution_count": 19,
   "metadata": {},
   "outputs": [
    {
     "data": {
      "text/html": [
       "<div>\n",
       "<style scoped>\n",
       "    .dataframe tbody tr th:only-of-type {\n",
       "        vertical-align: middle;\n",
       "    }\n",
       "\n",
       "    .dataframe tbody tr th {\n",
       "        vertical-align: top;\n",
       "    }\n",
       "\n",
       "    .dataframe thead th {\n",
       "        text-align: right;\n",
       "    }\n",
       "</style>\n",
       "<table border=\"1\" class=\"dataframe\">\n",
       "  <thead>\n",
       "    <tr style=\"text-align: right;\">\n",
       "      <th></th>\n",
       "      <th>country</th>\n",
       "      <th>beer_servings</th>\n",
       "      <th>spirit_servings</th>\n",
       "      <th>wine_servings</th>\n",
       "      <th>total_litres_of_pure_alcohol</th>\n",
       "      <th>continent</th>\n",
       "      <th>total_servings</th>\n",
       "    </tr>\n",
       "  </thead>\n",
       "  <tbody>\n",
       "    <tr>\n",
       "      <th>0</th>\n",
       "      <td>Afghanistan</td>\n",
       "      <td>0</td>\n",
       "      <td>0</td>\n",
       "      <td>0</td>\n",
       "      <td>0.0</td>\n",
       "      <td>AS</td>\n",
       "      <td>0</td>\n",
       "    </tr>\n",
       "    <tr>\n",
       "      <th>1</th>\n",
       "      <td>Albania</td>\n",
       "      <td>89</td>\n",
       "      <td>132</td>\n",
       "      <td>54</td>\n",
       "      <td>4.9</td>\n",
       "      <td>EU</td>\n",
       "      <td>275</td>\n",
       "    </tr>\n",
       "  </tbody>\n",
       "</table>\n",
       "</div>"
      ],
      "text/plain": [
       "       country  beer_servings  spirit_servings  wine_servings  \\\n",
       "0  Afghanistan              0                0              0   \n",
       "1      Albania             89              132             54   \n",
       "\n",
       "   total_litres_of_pure_alcohol continent  total_servings  \n",
       "0                           0.0        AS               0  \n",
       "1                           4.9        EU             275  "
      ]
     },
     "execution_count": 19,
     "metadata": {},
     "output_type": "execute_result"
    }
   ],
   "source": [
    "drinks.head(2)"
   ]
  },
  {
   "cell_type": "code",
   "execution_count": 21,
   "metadata": {},
   "outputs": [],
   "source": [
    "\n",
    "## 술 소비량 대비 알콜 비율 파생변수 생성\n",
    "## alcohol_rate = total_litres_of_pure_alcohol / total_servings \n",
    "drinks['alcohol_rate'] = \\\n",
    "    drinks['total_litres_of_pure_alcohol'] / drinks['total_servings']\n"
   ]
  },
  {
   "cell_type": "code",
   "execution_count": 22,
   "metadata": {},
   "outputs": [
    {
     "data": {
      "text/plain": [
       "13"
      ]
     },
     "execution_count": 22,
     "metadata": {},
     "output_type": "execute_result"
    }
   ],
   "source": [
    "drinks['alcohol_rate'].isna().sum()"
   ]
  },
  {
   "cell_type": "code",
   "execution_count": 24,
   "metadata": {},
   "outputs": [],
   "source": [
    "## 결측치 존재 -> 0으로 대체\n",
    "drinks['alcohol_rate'] = drinks['alcohol_rate'].fillna(0)"
   ]
  },
  {
   "cell_type": "code",
   "execution_count": 25,
   "metadata": {},
   "outputs": [
    {
     "data": {
      "text/plain": [
       "0"
      ]
     },
     "execution_count": 25,
     "metadata": {},
     "output_type": "execute_result"
    }
   ],
   "source": [
    "drinks['alcohol_rate'].isna().sum()"
   ]
  },
  {
   "cell_type": "code",
   "execution_count": null,
   "metadata": {},
   "outputs": [],
   "source": [
    "### South Korea 의 alcohol_rate 순위는 어떻게 되는가?\n",
    "# alcohol_rate를 기준으로 내림차순 정렬\n",
    "drinks_rank = drinks.sort_values('alcohol_rate', ascending=False)\n",
    "# 인덱스를 초기화\n",
    "drinks_rank = drinks_rank.reset_index(drop=True)\n",
    "\n",
    "drinks_rank.head(15)"
   ]
  },
  {
   "cell_type": "code",
   "execution_count": 35,
   "metadata": {},
   "outputs": [
    {
     "data": {
      "text/plain": [
       "Int64Index([15], dtype='int64')"
      ]
     },
     "execution_count": 35,
     "metadata": {},
     "output_type": "execute_result"
    }
   ],
   "source": [
    "# 한국의 alcohol_rate 순위\n",
    "drinks_rank[drinks_rank['country'] == 'South Korea'].index + 1"
   ]
  },
  {
   "cell_type": "code",
   "execution_count": null,
   "metadata": {},
   "outputs": [],
   "source": [
    "drinks_rank.loc[drinks_rank['country'] == 'South Korea']"
   ]
  },
  {
   "cell_type": "code",
   "execution_count": null,
   "metadata": {},
   "outputs": [],
   "source": [
    "drinks_rank.query(\"country == 'South Korea'\")"
   ]
  },
  {
   "cell_type": "code",
   "execution_count": 41,
   "metadata": {},
   "outputs": [
    {
     "name": "stdout",
     "output_type": "stream",
     "text": [
      "0.0593939393939394\n"
     ]
    },
    {
     "data": {
      "image/png": "[encoded data removed]",
      "text/plain": [
       "<Figure size 640x480 with 1 Axes>"
      ]
     },
     "metadata": {},
     "output_type": "display_data"
    }
   ],
   "source": [
    "## 데이터의 시각화\n",
    "x = drinks_rank.index\n",
    "y = drinks_rank['alcohol_rate']\n",
    "\n",
    "# 국가 리스트 \n",
    "country_list = drinks_rank['country'].tolist()\n",
    "\n",
    "bar_list = plt.bar(x, y)\n",
    "\n",
    "# 그래프 커스텀\n",
    "# 한국의 그래프만 빨간색으로 변경\n",
    "bar_list[country_list.index('South Korea')].set_color('r')\n",
    "\n",
    "# 그래프의 x축의 범위 y축의 범위 지정\n",
    "plt.axis([0, 200, 0, 0.3])\n",
    "\n",
    "korea_rank = country_list.index('South Korea')\n",
    "korea_alcohol_rate = drinks_rank[drinks_rank['country'] == 'South Korea']\\\n",
    "                    ['alcohol_rate'].values[0]\n",
    "print(korea_alcohol_rate)\n",
    "\n",
    "plt.annotate(\n",
    "    'South Korea : ' + str(korea_rank + 1), \n",
    "    xy = (korea_rank, korea_alcohol_rate), \n",
    "    xytext=(korea_rank + 10, korea_alcohol_rate+0.05), \n",
    "    arrowprops= dict(\n",
    "        facecolor = 'r', \n",
    "        shrink = 0.05\n",
    "    )\n",
    ")\n",
    "\n",
    "plt.show()\n"
   ]
  },
  {
   "cell_type": "code",
   "execution_count": null,
   "metadata": {},
   "outputs": [],
   "source": []
  }
 ],
 "metadata": {
  "kernelspec": {
   "display_name": "Python 3",
   "language": "python",
   "name": "python3"
  },
  "language_info": {
   "codemirror_mode": {
    "name": "ipython",
    "version": 3
   },
   "file_extension": ".py",
   "mimetype": "text/x-python",
   "name": "python",
   "nbconvert_exporter": "python",
   "pygments_lexer": "ipython3",
   "version": "3.11.1"
  },
  "orig_nbformat": 4
 },
 "nbformat": 4,
 "nbformat_minor": 2
}
