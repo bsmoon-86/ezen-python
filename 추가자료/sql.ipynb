{
 "cells": [
  {
   "attachments": {},
   "cell_type": "markdown",
   "metadata": {},
   "source": [
    "# 모듈을 이용한 sql 예시"
   ]
  },
  {
   "cell_type": "code",
   "execution_count": null,
   "metadata": {},
   "outputs": [],
   "source": [
    "!pip install pymysql"
   ]
  },
  {
   "cell_type": "code",
   "execution_count": 1,
   "metadata": {},
   "outputs": [],
   "source": [
    "import mod_sql as ms\n",
    "import pandas as pd"
   ]
  },
  {
   "cell_type": "code",
   "execution_count": 2,
   "metadata": {},
   "outputs": [],
   "source": [
    "# ms.Database(데이터베이스주소, 유저명, 비밀번호)\n",
    "sql_class = ms.Database(\"localhost\", 'ubion', \"1234\")"
   ]
  },
  {
   "cell_type": "code",
   "execution_count": null,
   "metadata": {},
   "outputs": [],
   "source": [
    "# select 쿼리문을 사용하는 경우에는 Class에 있는 executeAll 함수를 이용하여 결과값을 가지고 온다(결과 값은 데이터프레임으로 온다)\n",
    "\n",
    "sql = \"\"\"\n",
    "    select \n",
    "    * \n",
    "    from \n",
    "    `테이블명`\n",
    "\"\"\"\n",
    "result = sql_class.executeAll(sql)\n",
    "result.head()"
   ]
  },
  {
   "cell_type": "code",
   "execution_count": null,
   "metadata": {},
   "outputs": [],
   "source": [
    "# select문을 제외한 insert, delete, update는 데이터의 변환이 있기 때문에 execute()함수를 사용하고 commit()을 해준다\n",
    "sql = \"\"\"\n",
    "    insert\n",
    "    into\n",
    "    `테이블명`\n",
    "    values\n",
    "    (`삽입할 데이터`)\n",
    "\"\"\"\n",
    "\n",
    "sql_class.execute(sql, '변수의 데이터를 삽입하려면 리스트의 형태로')\n"
   ]
  },
  {
   "cell_type": "code",
   "execution_count": null,
   "metadata": {},
   "outputs": [],
   "source": [
    "# commit\n",
    "sql_class.commit()"
   ]
  }
 ],
 "metadata": {
  "kernelspec": {
   "display_name": "Python 3",
   "language": "python",
   "name": "python3"
  },
  "language_info": {
   "codemirror_mode": {
    "name": "ipython",
    "version": 3
   },
   "file_extension": ".py",
   "mimetype": "text/x-python",
   "name": "python",
   "nbconvert_exporter": "python",
   "pygments_lexer": "ipython3",
   "version": "3.10.4"
  },
  "orig_nbformat": 4,
  "vscode": {
   "interpreter": {
    "hash": "9b5f1854d503dd71c3856bf3749ce047b3ad1e5d370827a8e1d34b45663952a6"
   }
  }
 },
 "nbformat": 4,
 "nbformat_minor": 2
}
