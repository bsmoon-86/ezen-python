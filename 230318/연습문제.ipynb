{
 "cells": [
  {
   "attachments": {},
   "cell_type": "markdown",
   "metadata": {},
   "source": [
    "# 페르마의 정리\n",
    "   > n이 2보다 큰 자연수인 경우에 a<sup>n</sup> + b<sup>n</sup> = c<sup>n</sup> 이 되는 자연수 a, b, c 는 존재하지 않는다  \n",
    "   > n이 3이고 a, b, c가 1부터 10까지 자연수 일 때 페르마의 마지막 정리가 사실임을 증명하시오  \n",
    "- (for문을 이용하여 증명하시오)"
   ]
  },
  {
   "attachments": {},
   "cell_type": "markdown",
   "metadata": {},
   "source": [
    "# max() 함수 만들기\n",
    "1. max() 함수는 개수가 가변인 인자의 값들을 비교하여 가장 큰 수를 돌려주는 함수이다. \n",
    "2. 이 함수와 같은 행동를 하는 함수를 생성\n",
    "    - 개수가 가변인 매개변수 생성\n",
    "    - for문과 if문을 이용하여 함수를 생성"
   ]
  },
  {
   "attachments": {},
   "cell_type": "markdown",
   "metadata": {},
   "source": [
    "# 카드 이용 내역\n",
    "\n",
    "- test_csv 폴더의 유통+업종 데이터를 로드하여 문제를 푸시오\n",
    "\n",
    "1. 각 컬럼의 이름을 변경 ['기준년월', '업종', '성별', '연령대', '총이용건수', '총이용금액']\n",
    "2. 기준년월을 시계열로 변경\n",
    "3. index를 기준년월 변경\n",
    "4. 데이터를 확인하여서 굉장히 이상한 데이터가 존재 체크\n",
    "5. 성별 컬럼의 데이터 값을 1은 남자, 2는 여자 변경\n",
    "6. 남, 녀 성별을 기준으로 연도별 건당 이용 금액의 평균이 몇인지 출력 & 시각화"
   ]
  },
  {
   "cell_type": "code",
   "execution_count": null,
   "metadata": {},
   "outputs": [],
   "source": []
  },
  {
   "attachments": {},
   "cell_type": "markdown",
   "metadata": {},
   "source": [
    "## 온라인 카드 매출과 오프라인 카드매출을 월별로 비교\n",
    "1. 오프라인 데이터 df를 월별로 그룹화 총이용금액의 합계\n",
    "    - 기준년월을 시계열데이터 변경\n",
    "    - 기준년월 인덱스로 변경\n",
    "    - 인덱스를 기준으로 그룹화 -> 총이용금액의 합계\n",
    "2. 온라인 데이터 df_online도 월별로 그룹화 총이용금액의 합계\n",
    "    - 기준년월을 시계열데이터 변경\n",
    "    - 기준년월 인덱스로 변경\n",
    "    - 인덱스를 기준으로 그룹화 -> 총이용금액의 합계\n",
    "3. 1,2번과정에서 나온 데이터를 plot 그래프를 그려서 차이를 확인\n",
    "4. 2개의 데이터프레임을 단순한 행 결합\n",
    "    - df_online에 업종 파생 변수 생성 값은 \"온라인\"\n",
    "    - df와 df_online 데이터프레임을 행 결합\n",
    "    - 월별, 업종별로 총 이용 금액을 pivot_table을 이용하여 그래프 시각화"
   ]
  },
  {
   "cell_type": "code",
   "execution_count": null,
   "metadata": {},
   "outputs": [],
   "source": []
  }
 ],
 "metadata": {
  "language_info": {
   "name": "python"
  },
  "orig_nbformat": 4
 },
 "nbformat": 4,
 "nbformat_minor": 2
}
