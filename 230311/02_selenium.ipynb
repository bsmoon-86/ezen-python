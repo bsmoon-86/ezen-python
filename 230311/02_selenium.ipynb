{
 "cells": [
  {
   "cell_type": "code",
   "execution_count": null,
   "metadata": {},
   "outputs": [],
   "source": [
    "# 라이브러리 설치\n",
    "!pip install selenium"
   ]
  },
  {
   "attachments": {},
   "cell_type": "markdown",
   "metadata": {},
   "source": [
    "### selenium 라이브러리 \n",
    "1. 웹 어플리케이션 테스트를 위한 라이브러리 \n",
    "2. python을 이용하여 웹 브라우저를 제어하는 기능\n",
    "3. 웹드라이버라는 별도의 프로그램 설치"
   ]
  },
  {
   "cell_type": "code",
   "execution_count": null,
   "metadata": {},
   "outputs": [],
   "source": [
    "# 라이브러리 로드 \n",
    "from selenium import webdriver"
   ]
  },
  {
   "cell_type": "code",
   "execution_count": null,
   "metadata": {},
   "outputs": [],
   "source": [
    "# webdriver 파일의 위치를 지정\n",
    "# 상대 경로 \n",
    "path = '../chromedriver'\n",
    "# 절대경로\n",
    "path2 = 'C:\\\\Users\\\\ezen\\\\Documents\\\\GitHub\\\\ezen-python\\\\chromedriver'"
   ]
  },
  {
   "cell_type": "code",
   "execution_count": null,
   "metadata": {},
   "outputs": [],
   "source": [
    "# 웹드라이버 실행\n",
    "driver = webdriver.Chrome(path)\n",
    "# 웹드라이버에 주소창에 네이버에 요청\n",
    "driver.get('https://www.naver.com')"
   ]
  },
  {
   "cell_type": "code",
   "execution_count": null,
   "metadata": {},
   "outputs": [],
   "source": [
    "from selenium.webdriver.common.by import By\n",
    "from selenium.webdriver.common.keys import Keys"
   ]
  },
  {
   "cell_type": "code",
   "execution_count": 31,
   "metadata": {},
   "outputs": [],
   "source": [
    "element = driver.find_element(By.ID, 'query')\n",
    "element.send_keys(\"파싱\")"
   ]
  },
  {
   "cell_type": "code",
   "execution_count": 24,
   "metadata": {},
   "outputs": [],
   "source": [
    "element.send_keys(Keys.ENTER)"
   ]
  },
  {
   "cell_type": "code",
   "execution_count": null,
   "metadata": {},
   "outputs": [],
   "source": [
    "from bs4 import BeautifulSoup as bs"
   ]
  },
  {
   "cell_type": "code",
   "execution_count": 25,
   "metadata": {},
   "outputs": [],
   "source": [
    "soup = bs(driver.page_source, 'html.parser')"
   ]
  },
  {
   "cell_type": "code",
   "execution_count": 27,
   "metadata": {},
   "outputs": [
    {
     "data": {
      "text/plain": [
       "[<div class=\"question_group\"> <a class=\"api_txt_lines question_text\" href=\"https://kin.naver.com/qna/detail.naver?d1id=1&amp;dirId=10402&amp;docId=415822791&amp;qb=7YyM7Iux&amp;enc=utf8&amp;section=kin.ext&amp;rank=1&amp;search_sort=0&amp;spq=0\" onclick=\"return goOtherCR(this,'a=kin*k.question&amp;r=1&amp;i=10000009_000018c8f3c7&amp;u='+urlencode(this.href));\" target=\"_blank\">파이썬 <mark>파싱</mark>이 뮈에요? <mark>파싱</mark>이 뭐죠? 예시도 보여주세요 ㅜㅜ</a> </div>,\n",
       " <div class=\"question_group\"> <a class=\"api_txt_lines question_text\" href=\"https://kin.naver.com/qna/detail.naver?d1id=1&amp;dirId=10401&amp;docId=428744534&amp;qb=7YyM7Iux&amp;enc=utf8&amp;section=kin.ext&amp;rank=2&amp;search_sort=0&amp;spq=0\" onclick=\"return goOtherCR(this,'a=kin*k.question&amp;r=2&amp;i=10000009_0000198e1f56&amp;u='+urlencode(this.href));\" target=\"_blank\">프로그램 <mark>파싱</mark>이란 게 뭘까요?</a> </div>,\n",
       " <div class=\"question_group\"> <a class=\"api_txt_lines question_text\" href=\"https://kin.naver.com/qna/detail.naver?d1id=5&amp;dirId=50102&amp;docId=439339449&amp;qb=7YyM7Iux&amp;enc=utf8&amp;section=kin.ext&amp;rank=3&amp;search_sort=0&amp;spq=0\" onclick=\"return goOtherCR(this,'a=kin*k.question&amp;r=3&amp;i=10000009_00001a2fc9b9&amp;u='+urlencode(this.href));\" target=\"_blank\"><mark>파싱</mark> 리튬 배터리 수리 가능한가요 <mark>파싱</mark> FS-970N 배터리 물리적 충격으로 접합부쪽 뚜껑이 분리됐어요 ㅠㅠ 다시 닫아서 테이프로 감아봐도 안되던데, 수리가 가능한가요? 정식 수입 업체에서는 배터리 소모품이라 수리가 어렵다고해서 사설로 가능한지 알아보고싶은데 정보가 없네요 ..</a> </div>]"
      ]
     },
     "execution_count": 27,
     "metadata": {},
     "output_type": "execute_result"
    }
   ],
   "source": [
    "div_list = soup.find_all('div', attrs={\n",
    "    'class' : 'question_group'\n",
    "})\n",
    "div_list"
   ]
  },
  {
   "cell_type": "code",
   "execution_count": 28,
   "metadata": {},
   "outputs": [
    {
     "data": {
      "text/plain": [
       "['파이썬 파싱이 뮈에요? 파싱이 뭐죠? 예시도 보여주세요 ㅜㅜ',\n",
       " '프로그램 파싱이란 게 뭘까요?',\n",
       " '파싱 리튬 배터리 수리 가능한가요 파싱 FS-970N 배터리 물리적 충격으로 접합부쪽 뚜껑이 분리됐어요 ㅠㅠ 다시 닫아서 테이프로 감아봐도 안되던데, 수리가 가능한가요? 정식 수입 업체에서는 배터리 소모품이라 수리가 어렵다고해서 사설로 가능한지 알아보고싶은데 정보가 없네요 ..']"
      ]
     },
     "execution_count": 28,
     "metadata": {},
     "output_type": "execute_result"
    }
   ],
   "source": [
    "# a 태그만 리스트의 형태로 출력\n",
    "a_list = []\n",
    "for i in div_list:\n",
    "    if i.find('a'):\n",
    "        # print(i.find('a').get_text())\n",
    "        a_list.append(i.find('a').get_text())\n",
    "\n",
    "a_list"
   ]
  },
  {
   "cell_type": "code",
   "execution_count": null,
   "metadata": {},
   "outputs": [],
   "source": [
    "# 함수 생성\n",
    "# 검색어를 매개변수로 받아와서 \n",
    "# 웹드라이버에서 검색을 하고 결과를 리스트의 형태로 리턴 \n",
    "# 결과는 지식인의 타이틀을 리스트화 한 결과\n",
    "\n",
    "# 1 함수 생성\n",
    "# 2 웹드라이버에 검색어를 입력\n",
    "# 3 웹 드라이버에서 엔터키를 입력\n",
    "# 4 페이지의 소스코드를 변수에 입력\n",
    "# 5 bs를 이용하여 html parsing\n",
    "# 6 pasing된 데이터에서 지식인 부분 출력\n",
    "# 7 a태그 안에 text들을 리스트 형태로 저장\n",
    "# 8 text_list를 리턴"
   ]
  },
  {
   "cell_type": "code",
   "execution_count": 33,
   "metadata": {},
   "outputs": [],
   "source": [
    "import time"
   ]
  },
  {
   "cell_type": "code",
   "execution_count": 37,
   "metadata": {},
   "outputs": [],
   "source": [
    "def search_text(_search):\n",
    "    element = driver.find_element(By.ID, 'query')\n",
    "    element.send_keys(_search)\n",
    "    element.send_keys(Keys.ENTER)\n",
    "    # 딜레이 1초\n",
    "    time.sleep(1)\n",
    "    data = bs(driver.page_source, 'html.parser')\n",
    "    div_list = data.find_all('div', attrs={\n",
    "        'class' : 'question_group'\n",
    "    })\n",
    "    search_list = []\n",
    "    for i in div_list:\n",
    "        if i.find('a'):\n",
    "            search_list.append(i.find('a').get_text())\n",
    "    return search_list"
   ]
  },
  {
   "cell_type": "code",
   "execution_count": 41,
   "metadata": {},
   "outputs": [
    {
     "data": {
      "text/plain": [
       "['중학생 주식 안녕하세요 올해 중2가 되는 학생입니다. 주식을 한번 시작해보고싶어서 질문드립니다 1. 일단 뭐부터 공부해야할까요?? 주식용어들은 좀 알고있어요 2. 공부를 어떤걸로 해야할까요? 주식책을 읽어야할까요? 3. 여러가지 주식관련한 조언 부탁드립니다!!',\n",
       " '주식 개인회생 주식으로 인해 빚 주식 개인회생 문의합니다. 2억 정도 물려있고 지금 주식은 4천만 원 주식 개인회생신청이 가능할지, 개인회생 주식 보유는 가능한지. 주식으로 인해 빚이 생겼났는데. 이 빚들 처리가 가능할지. 알고 싶습니다. 주식 개인회생. 주식 보유 유무. 자격요건 등등. 내용 확인해주세요.',\n",
       " '주식 배당금? 제가 주식 어떤 종목을 2022년 여름 때부턴가 매수하고 가지고 있었어요. 그리고 그 주식 배당락일을 보니 2022년... 그런데 제가 1월 4일에 그 주식을 다 매도를 했어요. 그런데도 그 주식 배당금을... 배당금이 어디로 들어 오나요? 제가 앱증권으로 주식하는 앱 주식 예수금으로 입금 되나요?']"
      ]
     },
     "execution_count": 41,
     "metadata": {},
     "output_type": "execute_result"
    }
   ],
   "source": [
    "search_text('주식')"
   ]
  },
  {
   "cell_type": "code",
   "execution_count": 46,
   "metadata": {},
   "outputs": [],
   "source": [
    "# 클래스 형태로 웹드라이버 제어 \n",
    "\n",
    "# 클래스 선언\n",
    "class Web():\n",
    "    # 생성자 함수 생성\n",
    "    def __init__(self, _url, _input):\n",
    "        self.url = _url\n",
    "        self.input = _input\n",
    "\n",
    "    # 검색을 하는 함수 \n",
    "    def search(self, _search):\n",
    "        # 웹 드라이버를 실행\n",
    "        self.path = \"../chromedriver\"\n",
    "        self.driver = webdriver.Chrome(self.path)\n",
    "        # url 주소로 접속\n",
    "        self.driver.get(self.url)\n",
    "        time.sleep(1)\n",
    "        # 검색어창 지정\n",
    "        self.element = self.driver.find_element(By.ID, self.input)\n",
    "        # 검색어를 입력\n",
    "        self.element.send_keys(_search)\n",
    "        # 엔터키를 입력\n",
    "        self.element.send_keys(Keys.ENTER)\n",
    "        time.sleep(1)\n",
    "        # 해당 페이지의 html parsing 데이터\n",
    "        self.soup = bs(self.driver.page_source, 'html.parser')\n",
    "        # 지식인 부분의 html 태그를 저장\n",
    "        self.div_list = self.soup.find_all('div', attrs={\n",
    "            'class' : 'question_group'\n",
    "        })\n",
    "        # div_list에서 a태그의 title text만 리스트의 형태로 출력\n",
    "        self.result = []\n",
    "        for i in self.div_list:\n",
    "            if i.find('a'):\n",
    "                self.result.append(i.find('a').get_text())\n",
    "        self.driver.close()\n",
    "        return self.result"
   ]
  },
  {
   "cell_type": "code",
   "execution_count": 47,
   "metadata": {},
   "outputs": [],
   "source": [
    "test = Web('https://www.naver.com', 'query')"
   ]
  },
  {
   "cell_type": "code",
   "execution_count": 48,
   "metadata": {},
   "outputs": [
    {
     "name": "stderr",
     "output_type": "stream",
     "text": [
      "C:\\Users\\ezen\\AppData\\Local\\Temp\\ipykernel_7852\\4092105934.py:14: DeprecationWarning: executable_path has been deprecated, please pass in a Service object\n",
      "  self.driver = webdriver.Chrome(self.path)\n"
     ]
    },
    {
     "data": {
      "text/plain": [
       "['파이썬 파싱이 뮈에요? 파싱이 뭐죠? 예시도 보여주세요 ㅜㅜ',\n",
       " '프로그램 파싱이란 게 뭘까요?',\n",
       " '파싱 리튬 배터리 수리 가능한가요 파싱 FS-970N 배터리 물리적 충격으로 접합부쪽 뚜껑이 분리됐어요 ㅠㅠ 다시 닫아서 테이프로 감아봐도 안되던데, 수리가 가능한가요? 정식 수입 업체에서는 배터리 소모품이라 수리가 어렵다고해서 사설로 가능한지 알아보고싶은데 정보가 없네요 ..']"
      ]
     },
     "execution_count": 48,
     "metadata": {},
     "output_type": "execute_result"
    }
   ],
   "source": [
    "test.search('파싱')"
   ]
  }
 ],
 "metadata": {
  "kernelspec": {
   "display_name": "Python 3",
   "language": "python",
   "name": "python3"
  },
  "language_info": {
   "codemirror_mode": {
    "name": "ipython",
    "version": 3
   },
   "file_extension": ".py",
   "mimetype": "text/x-python",
   "name": "python",
   "nbconvert_exporter": "python",
   "pygments_lexer": "ipython3",
   "version": "3.11.1"
  },
  "orig_nbformat": 4
 },
 "nbformat": 4,
 "nbformat_minor": 2
}
